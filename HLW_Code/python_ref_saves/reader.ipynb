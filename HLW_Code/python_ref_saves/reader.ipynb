{
 "cells": [
  {
   "cell_type": "code",
   "execution_count": 1,
   "id": "ed1b86b7-6e64-4755-b8e1-dc8c35d28bb7",
   "metadata": {},
   "outputs": [
    {
     "name": "stderr",
     "output_type": "stream",
     "text": [
      "C:\\Users\\eliss\\Anaconda3\\lib\\site-packages\\scipy\\__init__.py:146: UserWarning: A NumPy version >=1.16.5 and <1.23.0 is required for this version of SciPy (detected version 1.23.1\n",
      "  warnings.warn(f\"A NumPy version >={np_minversion} and <{np_maxversion}\"\n"
     ]
    }
   ],
   "source": [
    "import numpy as np\n",
    "import matplotlib.pyplot as plt\n",
    "import seaborn as sns\n",
    "import pandas as pd"
   ]
  },
  {
   "cell_type": "code",
   "execution_count": 2,
   "id": "ab71736c-3ade-41f3-9391-f787abdc5b8e",
   "metadata": {},
   "outputs": [
    {
     "data": {
      "text/html": [
       "<div>\n",
       "<style scoped>\n",
       "    .dataframe tbody tr th:only-of-type {\n",
       "        vertical-align: middle;\n",
       "    }\n",
       "\n",
       "    .dataframe tbody tr th {\n",
       "        vertical-align: top;\n",
       "    }\n",
       "\n",
       "    .dataframe thead th {\n",
       "        text-align: right;\n",
       "    }\n",
       "</style>\n",
       "<table border=\"1\" class=\"dataframe\">\n",
       "  <thead>\n",
       "    <tr style=\"text-align: right;\">\n",
       "      <th></th>\n",
       "      <th>DATE</th>\n",
       "      <th>VALUE</th>\n",
       "    </tr>\n",
       "  </thead>\n",
       "  <tbody>\n",
       "    <tr>\n",
       "      <th>0</th>\n",
       "      <td>1947-01-01</td>\n",
       "      <td>2034.450</td>\n",
       "    </tr>\n",
       "    <tr>\n",
       "      <th>1</th>\n",
       "      <td>1947-04-01</td>\n",
       "      <td>2029.024</td>\n",
       "    </tr>\n",
       "    <tr>\n",
       "      <th>2</th>\n",
       "      <td>1947-07-01</td>\n",
       "      <td>2024.834</td>\n",
       "    </tr>\n",
       "    <tr>\n",
       "      <th>3</th>\n",
       "      <td>1947-10-01</td>\n",
       "      <td>2056.508</td>\n",
       "    </tr>\n",
       "    <tr>\n",
       "      <th>4</th>\n",
       "      <td>1948-01-01</td>\n",
       "      <td>2087.442</td>\n",
       "    </tr>\n",
       "    <tr>\n",
       "      <th>...</th>\n",
       "      <td>...</td>\n",
       "      <td>...</td>\n",
       "    </tr>\n",
       "    <tr>\n",
       "      <th>297</th>\n",
       "      <td>2021-04-01</td>\n",
       "      <td>19368.310</td>\n",
       "    </tr>\n",
       "    <tr>\n",
       "      <th>298</th>\n",
       "      <td>2021-07-01</td>\n",
       "      <td>19478.893</td>\n",
       "    </tr>\n",
       "    <tr>\n",
       "      <th>299</th>\n",
       "      <td>2021-10-01</td>\n",
       "      <td>19806.290</td>\n",
       "    </tr>\n",
       "    <tr>\n",
       "      <th>300</th>\n",
       "      <td>2022-01-01</td>\n",
       "      <td>19727.918</td>\n",
       "    </tr>\n",
       "    <tr>\n",
       "      <th>301</th>\n",
       "      <td>2022-04-01</td>\n",
       "      <td>19681.682</td>\n",
       "    </tr>\n",
       "  </tbody>\n",
       "</table>\n",
       "<p>302 rows × 2 columns</p>\n",
       "</div>"
      ],
      "text/plain": [
       "           DATE              VALUE\n",
       "0    1947-01-01           2034.450\n",
       "1    1947-04-01           2029.024\n",
       "2    1947-07-01           2024.834\n",
       "3    1947-10-01           2056.508\n",
       "4    1948-01-01           2087.442\n",
       "..          ...                ...\n",
       "297  2021-04-01          19368.310\n",
       "298  2021-07-01          19478.893\n",
       "299  2021-10-01          19806.290\n",
       "300  2022-01-01          19727.918\n",
       "301  2022-04-01          19681.682\n",
       "\n",
       "[302 rows x 2 columns]"
      ]
     },
     "execution_count": 2,
     "metadata": {},
     "output_type": "execute_result"
    }
   ],
   "source": [
    "pd.read_csv('gdp_save.csv')"
   ]
  },
  {
   "cell_type": "code",
   "execution_count": 6,
   "id": "c126a487-c6dc-4e8c-a268-d21d826b5659",
   "metadata": {},
   "outputs": [],
   "source": [
    "output_us = pd.read_csv('C:\\HLW_Code\\output\\output.us.csv')"
   ]
  },
  {
   "cell_type": "code",
   "execution_count": 8,
   "id": "e40800e1-de83-4fe0-a0d5-52661bb9e41c",
   "metadata": {},
   "outputs": [],
   "source": [
    "output_us['Date_dt'] = pd.to_datetime(output_us['Date'])"
   ]
  },
  {
   "cell_type": "code",
   "execution_count": 19,
   "id": "f79289fb-bbf8-4c24-ab21-0591f224eb77",
   "metadata": {},
   "outputs": [
    {
     "data": {
      "image/png": "[encoded data removed]",
      "text/plain": [
       "<Figure size 432x288 with 1 Axes>"
      ]
     },
     "metadata": {
      "needs_background": "light"
     },
     "output_type": "display_data"
    }
   ],
   "source": [
    "output_us.set_index('Date_dt')[['rstar', 'r*']].plot(color = ['tab:blue', 'tab:red'])\n",
    "plt.grid(True)\n",
    "plt.show()"
   ]
  },
  {
   "cell_type": "code",
   "execution_count": 58,
   "id": "f56a80d2-d894-4939-8215-2ad14377b669",
   "metadata": {},
   "outputs": [],
   "source": [
    "inputs = pd.read_csv(r'C:\\HLW_Code\\inputData\\rstar.data.us.csv').iloc[4:]"
   ]
  },
  {
   "cell_type": "code",
   "execution_count": 72,
   "id": "3ea30012-3ce1-4514-8e27-8c4fac451778",
   "metadata": {},
   "outputs": [],
   "source": [
    "inputs.index = pd.to_datetime(np.array([i for i in list(output_us[['Date_dt']].values.flatten())]))"
   ]
  },
  {
   "cell_type": "code",
   "execution_count": 75,
   "id": "a4a633ec-d3a8-4239-8b0d-0f5b0b46d93a",
   "metadata": {},
   "outputs": [
    {
     "data": {
      "text/plain": [
       "<AxesSubplot:>"
      ]
     },
     "execution_count": 75,
     "metadata": {},
     "output_type": "execute_result"
    },
    {
     "data": {
      "image/png": "[encoded data removed]",
      "text/plain": [
       "<Figure size 432x288 with 1 Axes>"
      ]
     },
     "metadata": {
      "needs_background": "light"
     },
     "output_type": "display_data"
    }
   ],
   "source": [
    "inputs.loc[\"2020\":].plot()"
   ]
  },
  {
   "cell_type": "code",
   "execution_count": null,
   "id": "171e75be-1efe-4d0d-a922-5d37c5dc980d",
   "metadata": {},
   "outputs": [],
   "source": []
  },
  {
   "cell_type": "code",
   "execution_count": null,
   "id": "05a7867c-21fe-4f90-8531-0d4758b368ee",
   "metadata": {},
   "outputs": [],
   "source": []
  }
 ],
 "metadata": {
  "kernelspec": {
   "display_name": "Python 3 (ipykernel)",
   "language": "python",
   "name": "python3"
  },
  "language_info": {
   "codemirror_mode": {
    "name": "ipython",
    "version": 3
   },
   "file_extension": ".py",
   "mimetype": "text/x-python",
   "name": "python",
   "nbconvert_exporter": "python",
   "pygments_lexer": "ipython3",
   "version": "3.9.7"
  }
 },
 "nbformat": 4,
 "nbformat_minor": 5
}
